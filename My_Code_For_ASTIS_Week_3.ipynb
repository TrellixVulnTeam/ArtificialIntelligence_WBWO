{
  "nbformat": 4,
  "nbformat_minor": 0,
  "metadata": {
    "colab": {
      "name": "My-Code_For-ASTIS-Week-3.ipynb",
      "provenance": [],
      "collapsed_sections": [],
      "authorship_tag": "ABX9TyOMKsZtI4lfmfHcvUI/YEnk",
      "include_colab_link": true
    },
    "kernelspec": {
      "name": "python3",
      "display_name": "Python 3"
    },
    "language_info": {
      "name": "python"
    }
  },
  "cells": [
    {
      "cell_type": "markdown",
      "metadata": {
        "id": "view-in-github",
        "colab_type": "text"
      },
      "source": [
        "<a href=\"https://colab.research.google.com/github/nkongenelly/ArtificialIntelligence/blob/master/My_Code_For_ASTIS_Week_3.ipynb\" target=\"_parent\"><img src=\"https://colab.research.google.com/assets/colab-badge.svg\" alt=\"Open In Colab\"/></a>"
      ]
    },
    {
      "cell_type": "code",
      "execution_count": 13,
      "metadata": {
        "colab": {
          "resources": {
            "http://localhost:8080/nbextensions/google.colab/files.js": {
              "data": "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",
              "ok": true,
              "headers": [
                [
                  "content-type",
                  "application/javascript"
                ]
              ],
              "status": 200,
              "status_text": ""
            }
          },
          "base_uri": "https://localhost:8080/",
          "height": 90
        },
        "id": "c4Z-33Xqn2E4",
        "outputId": "b9312053-bdb4-4e80-ef00-56ebe2123eb3"
      },
      "outputs": [
        {
          "output_type": "display_data",
          "data": {
            "text/html": [
              "\n",
              "     <input type=\"file\" id=\"files-d14e090e-f622-4dc5-b4ce-6277a8b98768\" name=\"files[]\" multiple disabled\n",
              "        style=\"border:none\" />\n",
              "     <output id=\"result-d14e090e-f622-4dc5-b4ce-6277a8b98768\">\n",
              "      Upload widget is only available when the cell has been executed in the\n",
              "      current browser session. Please rerun this cell to enable.\n",
              "      </output>\n",
              "      <script src=\"/nbextensions/google.colab/files.js\"></script> "
            ],
            "text/plain": [
              "<IPython.core.display.HTML object>"
            ]
          },
          "metadata": {}
        },
        {
          "output_type": "stream",
          "name": "stdout",
          "text": [
            "Saving kaggle.json to kaggle.json\n"
          ]
        },
        {
          "output_type": "execute_result",
          "data": {
            "text/plain": [
              "{'kaggle.json': b'{\"username\":\"nellynkonge\",\"key\":\"b2dcb08e200849dd89187146cd21dc00\"}'}"
            ]
          },
          "metadata": {},
          "execution_count": 13
        }
      ],
      "source": [
        "# Run this cell and select the kaggle.json file downloaded\n",
        "# from the Kaggle account settings page.\n",
        "from google.colab import files\n",
        "files.upload()"
      ]
    },
    {
      "cell_type": "code",
      "source": [
        "# Let's make sure the kaggle.json file is present.\n",
        "!ls -lha kaggle.json"
      ],
      "metadata": {
        "colab": {
          "base_uri": "https://localhost:8080/"
        },
        "id": "VnRJzDb61ttS",
        "outputId": "a0c2e5c1-22de-4746-bde9-4bb41bf67a36"
      },
      "execution_count": 14,
      "outputs": [
        {
          "output_type": "stream",
          "name": "stdout",
          "text": [
            "-rw-r--r-- 1 root root 67 Feb 14 19:13 kaggle.json\n"
          ]
        }
      ]
    },
    {
      "cell_type": "code",
      "source": [
        "# Next, install the Kaggle API client.\n",
        "!pip install -q kaggle"
      ],
      "metadata": {
        "id": "k-k694CU1xdJ"
      },
      "execution_count": 15,
      "outputs": []
    },
    {
      "cell_type": "code",
      "source": [
        "!pip install kaggle --upgrade"
      ],
      "metadata": {
        "colab": {
          "base_uri": "https://localhost:8080/"
        },
        "id": "GbEJwg7x2ngD",
        "outputId": "6841a487-00ad-4143-88b7-edb1ca33d52a"
      },
      "execution_count": 16,
      "outputs": [
        {
          "output_type": "stream",
          "name": "stdout",
          "text": [
            "Requirement already satisfied: kaggle in /usr/local/lib/python3.7/dist-packages (1.5.12)\n",
            "Requirement already satisfied: certifi in /usr/local/lib/python3.7/dist-packages (from kaggle) (2021.10.8)\n",
            "Requirement already satisfied: requests in /usr/local/lib/python3.7/dist-packages (from kaggle) (2.23.0)\n",
            "Requirement already satisfied: six>=1.10 in /usr/local/lib/python3.7/dist-packages (from kaggle) (1.15.0)\n",
            "Requirement already satisfied: python-slugify in /usr/local/lib/python3.7/dist-packages (from kaggle) (5.0.2)\n",
            "Requirement already satisfied: python-dateutil in /usr/local/lib/python3.7/dist-packages (from kaggle) (2.8.2)\n",
            "Requirement already satisfied: tqdm in /usr/local/lib/python3.7/dist-packages (from kaggle) (4.62.3)\n",
            "Requirement already satisfied: urllib3 in /usr/local/lib/python3.7/dist-packages (from kaggle) (1.24.3)\n",
            "Requirement already satisfied: text-unidecode>=1.3 in /usr/local/lib/python3.7/dist-packages (from python-slugify->kaggle) (1.3)\n",
            "Requirement already satisfied: chardet<4,>=3.0.2 in /usr/local/lib/python3.7/dist-packages (from requests->kaggle) (3.0.4)\n",
            "Requirement already satisfied: idna<3,>=2.5 in /usr/local/lib/python3.7/dist-packages (from requests->kaggle) (2.10)\n"
          ]
        }
      ]
    },
    {
      "cell_type": "code",
      "source": [
        "# The Kaggle API client expects this file to be in ~/.kaggle,\n",
        "# so move it there.\n",
        "!mkdir -p ~/.kaggle\n",
        "!cp kaggle.json ~/.kaggle/\n",
        "\n",
        "# This permissions change avoids a warning on Kaggle tool startup.\n",
        "!chmod 600 ~/.kaggle/kaggle.json"
      ],
      "metadata": {
        "id": "mtf3uJ3b13Ln"
      },
      "execution_count": 17,
      "outputs": []
    },
    {
      "cell_type": "code",
      "source": [
        "# List available datasets.\n",
        "!kaggle datasets list -s fruits"
      ],
      "metadata": {
        "colab": {
          "base_uri": "https://localhost:8080/"
        },
        "id": "QqFP8SqQ16l3",
        "outputId": "c091dc46-2012-46d1-b5f0-fc42b3cc92a8"
      },
      "execution_count": 18,
      "outputs": [
        {
          "output_type": "stream",
          "name": "stdout",
          "text": [
            "Warning: Looks like you're using an outdated API Version, please consider updating (server 1.5.12 / client 1.5.4)\n",
            "ref                                                            title                                               size  lastUpdated          downloadCount  \n",
            "-------------------------------------------------------------  -------------------------------------------------  -----  -------------------  -------------  \n",
            "moltean/fruits                                                 Fruits 360                                           1GB  2021-09-12 19:19:48          86525  \n",
            "aelchimminut/fruits262                                         Fruits-262                                           6GB  2021-12-15 19:16:59           1379  \n",
            "kritikseth/fruit-and-vegetable-image-recognition               Fruits and Vegetables Image Recognition Dataset      2GB  2022-02-12 06:15:55           4346  \n",
            "mjamilmoughal/fruits-with-colors-dataset                       Fruits with colors dataset                          816B  2018-01-13 10:22:33          13918  \n",
            "sshikamaru/fruit-recognition                                   Fruit Recognition                                  102MB  2020-08-28 20:25:04           1679  \n",
            "sriramr/fruits-fresh-and-rotten-for-classification             Fruits fresh and rotten for classification           4GB  2018-08-24 15:05:40           8007  \n",
            "mauriciofigueiredo/amazon-fruits-small                         Amazon fruits (small)                                1MB  2020-11-05 21:26:51            207  \n",
            "jorgebailon/fruits-vegetables                                  Fruits & Vegetables                                560MB  2020-08-18 00:52:11            827  \n",
            "raghu07/vegetable-and-fruits-price-in-india                    Daily Vegetable and Fruits Prices data  2010-2018   18MB  2018-03-16 15:57:36           3375  \n",
            "raghavrpotdar/fresh-and-stale-images-of-fruits-and-vegetables  Fresh and Stale Images of Fruits and Vegetables      1GB  2021-05-17 16:20:32           1062  \n",
            "jacko9812/colombian-citric-fruits                              Citrus Fruits                                        2GB  2021-08-24 00:54:56             58  \n",
            "balalexv/fruits                                                fruits                                               1GB  2019-09-23 11:14:48             77  \n",
            "assmoede98/fruits                                              Fruits                                             248MB  2019-06-02 02:42:08            269  \n",
            "vaishnavikhilari/fruits-recognition                            Fruits Recognition                                 298MB  2021-07-24 08:57:39             96  \n",
            "kyrodonte/fruits                                               Fruits                                               7MB  2019-08-28 23:09:01             95  \n",
            "souro12/ccxzvv                                                 Fruits Images - 5 classes                           15MB  2020-04-01 09:49:55            120  \n",
            "muhammadammarabid/fruits                                       fruits                                              789B  2021-07-07 20:59:28             45  \n",
            "sameerkoleshwar/eyantrafruitsdataset                           eyantra-fruits-dataset                              19MB  2020-10-26 13:59:38             46  \n",
            "raykleptzo/classification-data-apples-oranges                  Classification Data -Apples & Oranges               384B  2020-05-02 21:48:14           1303  \n",
            "barisyasli/fruit360                                            fruits-360                                         345MB  2020-04-22 01:53:20             86  \n"
          ]
        }
      ]
    },
    {
      "cell_type": "code",
      "source": [
        "# Copy the moltean/fruits data set locally.\n",
        "!kaggle datasets download -d moltean/fruits"
      ],
      "metadata": {
        "colab": {
          "base_uri": "https://localhost:8080/"
        },
        "id": "V2yKh4bJ5Twn",
        "outputId": "439858a5-ea19-4fd9-e41f-662027d947c2"
      },
      "execution_count": 19,
      "outputs": [
        {
          "output_type": "stream",
          "name": "stdout",
          "text": [
            "Downloading fruits.zip to /content\n",
            "100% 1.28G/1.28G [00:17<00:00, 83.6MB/s]\n",
            "100% 1.28G/1.28G [00:17<00:00, 78.4MB/s]\n"
          ]
        }
      ]
    },
    {
      "cell_type": "code",
      "source": [
        "# Check if dataset has been downloaded\n",
        "import glob\n",
        "print(glob.glob(\"/content/*\"))"
      ],
      "metadata": {
        "colab": {
          "base_uri": "https://localhost:8080/"
        },
        "id": "KAdd4NdD6TZz",
        "outputId": "b2308234-2f2f-4f45-a1ab-25925ad892ab"
      },
      "execution_count": 20,
      "outputs": [
        {
          "output_type": "stream",
          "name": "stdout",
          "text": [
            "['/content/kaggle.json', '/content/fruits.zip', '/content/sample_data']\n"
          ]
        }
      ]
    },
    {
      "cell_type": "code",
      "source": [
        "# Unzip dataset folder\n",
        "import zipfile\n",
        "with zipfile.ZipFile(\"/content/fruits.zip\", 'r') as zip_ref:\n",
        "    zip_ref.extractall(\"/content/fruits\")"
      ],
      "metadata": {
        "id": "C4tqFq2e6k0f"
      },
      "execution_count": 21,
      "outputs": []
    },
    {
      "cell_type": "code",
      "source": [
        "# Check if dataset has been downloaded\n",
        "import glob\n",
        "print(glob.glob(\"/content/fruits/fruits-360_dataset/fruits-360/Training/*\"))"
      ],
      "metadata": {
        "colab": {
          "base_uri": "https://localhost:8080/"
        },
        "id": "l9iI9gDB6mrj",
        "outputId": "08207e0f-d442-4f96-b573-fd75906604ec"
      },
      "execution_count": 58,
      "outputs": [
        {
          "output_type": "stream",
          "name": "stdout",
          "text": [
            "['/content/fruits/fruits-360_dataset/fruits-360/Training/Tomato Cherry Red', '/content/fruits/fruits-360_dataset/fruits-360/Training/Nectarine Flat', '/content/fruits/fruits-360_dataset/fruits-360/Training/Cactus fruit', '/content/fruits/fruits-360_dataset/fruits-360/Training/Banana', '/content/fruits/fruits-360_dataset/fruits-360/Training/Pear', '/content/fruits/fruits-360_dataset/fruits-360/Training/Cucumber Ripe', '/content/fruits/fruits-360_dataset/fruits-360/Training/Plum 3', '/content/fruits/fruits-360_dataset/fruits-360/Training/Potato Red Washed', '/content/fruits/fruits-360_dataset/fruits-360/Training/Tomato 4', '/content/fruits/fruits-360_dataset/fruits-360/Training/Cherry Wax Black', '/content/fruits/fruits-360_dataset/fruits-360/Training/Mango', '/content/fruits/fruits-360_dataset/fruits-360/Training/Apple Red 3', '/content/fruits/fruits-360_dataset/fruits-360/Training/Onion Red', '/content/fruits/fruits-360_dataset/fruits-360/Training/Grape White 2', '/content/fruits/fruits-360_dataset/fruits-360/Training/Walnut', '/content/fruits/fruits-360_dataset/fruits-360/Training/Clementine', '/content/fruits/fruits-360_dataset/fruits-360/Training/Pear Monster', '/content/fruits/fruits-360_dataset/fruits-360/Training/Rambutan', '/content/fruits/fruits-360_dataset/fruits-360/Training/Cantaloupe 2', '/content/fruits/fruits-360_dataset/fruits-360/Training/Grape White', '/content/fruits/fruits-360_dataset/fruits-360/Training/Avocado', '/content/fruits/fruits-360_dataset/fruits-360/Training/Guava', '/content/fruits/fruits-360_dataset/fruits-360/Training/Pear Kaiser', '/content/fruits/fruits-360_dataset/fruits-360/Training/Cocos', '/content/fruits/fruits-360_dataset/fruits-360/Training/Ginger Root', '/content/fruits/fruits-360_dataset/fruits-360/Training/Apple Granny Smith', '/content/fruits/fruits-360_dataset/fruits-360/Training/Apple Red Yellow 1', '/content/fruits/fruits-360_dataset/fruits-360/Training/Peach', '/content/fruits/fruits-360_dataset/fruits-360/Training/Apple Golden 3', '/content/fruits/fruits-360_dataset/fruits-360/Training/Potato White', '/content/fruits/fruits-360_dataset/fruits-360/Training/Apple Red Delicious', '/content/fruits/fruits-360_dataset/fruits-360/Training/Apple Crimson Snow', '/content/fruits/fruits-360_dataset/fruits-360/Training/Pear Abate', '/content/fruits/fruits-360_dataset/fruits-360/Training/Pineapple', '/content/fruits/fruits-360_dataset/fruits-360/Training/Cherry Wax Red', '/content/fruits/fruits-360_dataset/fruits-360/Training/Fig', '/content/fruits/fruits-360_dataset/fruits-360/Training/Plum 2', '/content/fruits/fruits-360_dataset/fruits-360/Training/Maracuja', '/content/fruits/fruits-360_dataset/fruits-360/Training/Eggplant', '/content/fruits/fruits-360_dataset/fruits-360/Training/Potato Red', '/content/fruits/fruits-360_dataset/fruits-360/Training/Corn Husk', '/content/fruits/fruits-360_dataset/fruits-360/Training/Tomato 3', '/content/fruits/fruits-360_dataset/fruits-360/Training/Orange', '/content/fruits/fruits-360_dataset/fruits-360/Training/Apple Pink Lady', '/content/fruits/fruits-360_dataset/fruits-360/Training/Onion Red Peeled', '/content/fruits/fruits-360_dataset/fruits-360/Training/Tomato 2', '/content/fruits/fruits-360_dataset/fruits-360/Training/Watermelon', '/content/fruits/fruits-360_dataset/fruits-360/Training/Mangostan', '/content/fruits/fruits-360_dataset/fruits-360/Training/Lemon', '/content/fruits/fruits-360_dataset/fruits-360/Training/Grape Blue', '/content/fruits/fruits-360_dataset/fruits-360/Training/Dates', '/content/fruits/fruits-360_dataset/fruits-360/Training/Apple Braeburn', '/content/fruits/fruits-360_dataset/fruits-360/Training/Tamarillo', '/content/fruits/fruits-360_dataset/fruits-360/Training/Pear Stone', '/content/fruits/fruits-360_dataset/fruits-360/Training/Grape White 4', '/content/fruits/fruits-360_dataset/fruits-360/Training/Strawberry', '/content/fruits/fruits-360_dataset/fruits-360/Training/Tomato Heart', '/content/fruits/fruits-360_dataset/fruits-360/Training/Cauliflower', '/content/fruits/fruits-360_dataset/fruits-360/Training/Physalis with Husk', '/content/fruits/fruits-360_dataset/fruits-360/Training/Salak', '/content/fruits/fruits-360_dataset/fruits-360/Training/Pepper Yellow', '/content/fruits/fruits-360_dataset/fruits-360/Training/Cherry Wax Yellow', '/content/fruits/fruits-360_dataset/fruits-360/Training/Tomato Maroon', '/content/fruits/fruits-360_dataset/fruits-360/Training/Banana Red', '/content/fruits/fruits-360_dataset/fruits-360/Training/Nut Pecan', '/content/fruits/fruits-360_dataset/fruits-360/Training/Cucumber Ripe 2', '/content/fruits/fruits-360_dataset/fruits-360/Training/Grape White 3', '/content/fruits/fruits-360_dataset/fruits-360/Training/Hazelnut', '/content/fruits/fruits-360_dataset/fruits-360/Training/Kiwi', '/content/fruits/fruits-360_dataset/fruits-360/Training/Apple Golden 1', '/content/fruits/fruits-360_dataset/fruits-360/Training/Pear Red', '/content/fruits/fruits-360_dataset/fruits-360/Training/Plum', '/content/fruits/fruits-360_dataset/fruits-360/Training/Tomato 1', '/content/fruits/fruits-360_dataset/fruits-360/Training/Raspberry', '/content/fruits/fruits-360_dataset/fruits-360/Training/Pear 2', '/content/fruits/fruits-360_dataset/fruits-360/Training/Avocado ripe', '/content/fruits/fruits-360_dataset/fruits-360/Training/Pepino', '/content/fruits/fruits-360_dataset/fruits-360/Training/Corn', '/content/fruits/fruits-360_dataset/fruits-360/Training/Pear Forelle', '/content/fruits/fruits-360_dataset/fruits-360/Training/Pitahaya Red', '/content/fruits/fruits-360_dataset/fruits-360/Training/Pepper Green', '/content/fruits/fruits-360_dataset/fruits-360/Training/Pomelo Sweetie', '/content/fruits/fruits-360_dataset/fruits-360/Training/Onion White', '/content/fruits/fruits-360_dataset/fruits-360/Training/Lemon Meyer', '/content/fruits/fruits-360_dataset/fruits-360/Training/Pepper Red', '/content/fruits/fruits-360_dataset/fruits-360/Training/Pear Williams', '/content/fruits/fruits-360_dataset/fruits-360/Training/Physalis', '/content/fruits/fruits-360_dataset/fruits-360/Training/Apricot', '/content/fruits/fruits-360_dataset/fruits-360/Training/Pineapple Mini', '/content/fruits/fruits-360_dataset/fruits-360/Training/Kohlrabi', '/content/fruits/fruits-360_dataset/fruits-360/Training/Apple Golden 2', '/content/fruits/fruits-360_dataset/fruits-360/Training/Pepper Orange', '/content/fruits/fruits-360_dataset/fruits-360/Training/Huckleberry', '/content/fruits/fruits-360_dataset/fruits-360/Training/Cherry 2', '/content/fruits/fruits-360_dataset/fruits-360/Training/Mango Red', '/content/fruits/fruits-360_dataset/fruits-360/Training/Nectarine', '/content/fruits/fruits-360_dataset/fruits-360/Training/Cantaloupe 1', '/content/fruits/fruits-360_dataset/fruits-360/Training/Tomato Yellow', '/content/fruits/fruits-360_dataset/fruits-360/Training/Limes', '/content/fruits/fruits-360_dataset/fruits-360/Training/Redcurrant', '/content/fruits/fruits-360_dataset/fruits-360/Training/Nut Forest', '/content/fruits/fruits-360_dataset/fruits-360/Training/Kaki', '/content/fruits/fruits-360_dataset/fruits-360/Training/Carambula', '/content/fruits/fruits-360_dataset/fruits-360/Training/Peach 2', '/content/fruits/fruits-360_dataset/fruits-360/Training/Quince', '/content/fruits/fruits-360_dataset/fruits-360/Training/Grapefruit Pink', '/content/fruits/fruits-360_dataset/fruits-360/Training/Grapefruit White', '/content/fruits/fruits-360_dataset/fruits-360/Training/Apple Red 2', '/content/fruits/fruits-360_dataset/fruits-360/Training/Banana Lady Finger', '/content/fruits/fruits-360_dataset/fruits-360/Training/Apple Red Yellow 2', '/content/fruits/fruits-360_dataset/fruits-360/Training/Peach Flat', '/content/fruits/fruits-360_dataset/fruits-360/Training/Tangelo', '/content/fruits/fruits-360_dataset/fruits-360/Training/Strawberry Wedge', '/content/fruits/fruits-360_dataset/fruits-360/Training/Chestnut', '/content/fruits/fruits-360_dataset/fruits-360/Training/Cherry Rainier', '/content/fruits/fruits-360_dataset/fruits-360/Training/Grape Pink', '/content/fruits/fruits-360_dataset/fruits-360/Training/Beetroot', '/content/fruits/fruits-360_dataset/fruits-360/Training/Lychee', '/content/fruits/fruits-360_dataset/fruits-360/Training/Kumquats', '/content/fruits/fruits-360_dataset/fruits-360/Training/Papaya', '/content/fruits/fruits-360_dataset/fruits-360/Training/Melon Piel de Sapo', '/content/fruits/fruits-360_dataset/fruits-360/Training/Tomato not Ripened', '/content/fruits/fruits-360_dataset/fruits-360/Training/Mulberry', '/content/fruits/fruits-360_dataset/fruits-360/Training/Granadilla', '/content/fruits/fruits-360_dataset/fruits-360/Training/Mandarine', '/content/fruits/fruits-360_dataset/fruits-360/Training/Apple Red 1', '/content/fruits/fruits-360_dataset/fruits-360/Training/Passion Fruit', '/content/fruits/fruits-360_dataset/fruits-360/Training/Potato Sweet', '/content/fruits/fruits-360_dataset/fruits-360/Training/Cherry 1', '/content/fruits/fruits-360_dataset/fruits-360/Training/Blueberry', '/content/fruits/fruits-360_dataset/fruits-360/Training/Pomegranate']\n"
          ]
        }
      ]
    },
    {
      "cell_type": "code",
      "source": [
        "# Imports\n",
        "import os\n",
        "import matplotlib.pyplot as plt\n",
        "from PIL import Image\n",
        "import math\n",
        "\n",
        "# Configuration\n",
        "dir_with_examples = '/content/fruits/fruits-360_dataset/fruits-360/Training/Avocado'\n",
        "files_per_row = 6\n",
        "\n",
        "# List the directory and perform computations\n",
        "files_in_dir = os.listdir(dir_with_examples)\n",
        "number_of_cols = files_per_row\n",
        "number_of_rows = int(len(files_in_dir) / number_of_cols)\n",
        "\n",
        "# Generate the subplots\n",
        "fig, axs = plt.subplots(number_of_rows, number_of_cols)\n",
        "fig.set_size_inches(8, 5, forward=True)\n",
        "\n",
        "# Map each file to subplot\n",
        "for i in range(0, 5): #len(files_in_dir) - 1\n",
        "  file_name = files_in_dir[i]\n",
        "  image = Image.open(f'{dir_with_examples}/{file_name}')\n",
        "  row = math.floor(i / files_per_row)\n",
        "  col = i % files_per_row\n",
        "  axs[row, col].imshow(image)\n",
        "  axs[row, col].axis('off')\n",
        "\n",
        "# Show the plot\n",
        "# plt.show()"
      ],
      "metadata": {
        "colab": {
          "base_uri": "https://localhost:8080/",
          "height": 324
        },
        "id": "MLODGgEe74al",
        "outputId": "016a025e-f9ea-4098-f7d9-5122931c2e71"
      },
      "execution_count": 23,
      "outputs": [
        {
          "output_type": "display_data",
          "data": {
            "image/png": "[encoded data removed]",
            "text/plain": [
              "<Figure size 576x360 with 426 Axes>"
            ]
          },
          "metadata": {
            "needs_background": "light"
          }
        }
      ]
    },
    {
      "cell_type": "code",
      "source": [
        "#From the original Training and Test folders, we copy the fruits we wish to classify for\n",
        "import os\n",
        "  \n",
        "# Directory\n",
        "directory = \"Training_smaller\"\n",
        "directoryTest = \"Test_smaller\"\n",
        "  \n",
        "# Parent Directory path\n",
        "parent_dir = \"/content/fruits/fruits-360_dataset/fruits-360/\"\n",
        "  \n",
        "# Path\n",
        "path = os.path.join(parent_dir, directory)\n",
        "pathTest = os.path.join(parent_dir, directoryTest)\n",
        "  \n",
        "# Create the directoryin\n",
        "# '/home / User / Documents'\n",
        "if not os.path.exists(path):\n",
        "  os.mkdir(path)\n",
        "  print(\"Directory '% s' created\" % directory)\n",
        "elif not os.path.exists(pathTest):\n",
        "  os.mkdir(pathTest)\n",
        "  print(\"Directory '% s' created\" % directoryTest)\n",
        "\n",
        "\n",
        "\n",
        "import glob\n",
        "print(glob.glob(\"/content/fruits/fruits-360_dataset/fruits-360/*\"))"
      ],
      "metadata": {
        "colab": {
          "base_uri": "https://localhost:8080/"
        },
        "id": "B93BYbIBAljJ",
        "outputId": "96d5f937-35b6-4fe7-b5ff-5ee124791074"
      },
      "execution_count": 24,
      "outputs": [
        {
          "output_type": "stream",
          "name": "stdout",
          "text": [
            "Directory 'Training_smaller' created\n",
            "['/content/fruits/fruits-360_dataset/fruits-360/test-multiple_fruits', '/content/fruits/fruits-360_dataset/fruits-360/LICENSE', '/content/fruits/fruits-360_dataset/fruits-360/Training', '/content/fruits/fruits-360_dataset/fruits-360/readme.md', '/content/fruits/fruits-360_dataset/fruits-360/Training_smaller', '/content/fruits/fruits-360_dataset/fruits-360/papers', '/content/fruits/fruits-360_dataset/fruits-360/Test']\n"
          ]
        }
      ]
    },
    {
      "cell_type": "code",
      "source": [
        "# Copy files to the new *_smaller folders\n",
        "import os\n",
        "import shutil\n",
        "# import glob\n",
        "# print(glob.glob(\"/content/fruits/fruits-360_dataset/fruits-360/Training/*\"))\n",
        "src_files = ['Avocado', 'Onion White', 'Tomato 4', 'Corn', 'Potato Red Washed', 'Eggplant', 'Apple Red 3', 'Orange', 'Ginger Root', 'Onion Red']\n",
        "src = \"/content/fruits/fruits-360_dataset/fruits-360/Training/\"\n",
        "srcTest = \"/content/fruits/fruits-360_dataset/fruits-360/Test/\"\n",
        "dest = \"/content/fruits/fruits-360_dataset/fruits-360/Training_smaller/\"\n",
        "destTest = \"/content/fruits/fruits-360_dataset/fruits-360/Test_smaller/\"\n",
        "for file_name in src_files:\n",
        "    full_file_name = os.path.join(src, file_name)\n",
        "    full_file_name_test = os.path.join(srcTest, file_name)\n",
        "    full_file_name_dest = os.path.join(dest, file_name)\n",
        "    full_file_name_destTest = os.path.join(destTest, file_name)\n",
        "    if os.path.isdir(full_file_name) \\\n",
        "            and not os.path.exists(full_file_name_dest) :\n",
        "        shutil.copytree(full_file_name, full_file_name_dest)\n",
        "    elif os.path.isdir(full_file_name) \\\n",
        "            and not os.path.exists(full_file_name_destTest):\n",
        "        shutil.copytree(full_file_name, full_file_name_destTest)\n",
        "\n",
        "print(glob.glob(\"/content/fruits/fruits-360_dataset/fruits-360/Test_smaller/*\"))"
      ],
      "metadata": {
        "colab": {
          "base_uri": "https://localhost:8080/"
        },
        "id": "y_6BDGOMESPl",
        "outputId": "c83b04e9-d694-47e3-9620-c367523fc8ea"
      },
      "execution_count": 100,
      "outputs": [
        {
          "output_type": "stream",
          "name": "stdout",
          "text": [
            "['/content/fruits/fruits-360_dataset/fruits-360/Test_smaller/Potato Red Washed', '/content/fruits/fruits-360_dataset/fruits-360/Test_smaller/Tomato 4', '/content/fruits/fruits-360_dataset/fruits-360/Test_smaller/Apple Red 3', '/content/fruits/fruits-360_dataset/fruits-360/Test_smaller/Onion Red', '/content/fruits/fruits-360_dataset/fruits-360/Test_smaller/Avocado', '/content/fruits/fruits-360_dataset/fruits-360/Test_smaller/Ginger Root', '/content/fruits/fruits-360_dataset/fruits-360/Test_smaller/Eggplant', '/content/fruits/fruits-360_dataset/fruits-360/Test_smaller/Orange', '/content/fruits/fruits-360_dataset/fruits-360/Test_smaller/Corn', '/content/fruits/fruits-360_dataset/fruits-360/Test_smaller/Onion White']\n"
          ]
        }
      ]
    },
    {
      "cell_type": "code",
      "source": [
        ""
      ],
      "metadata": {
        "id": "5DJJr3rzEuBc"
      },
      "execution_count": 26,
      "outputs": []
    },
    {
      "cell_type": "code",
      "source": [
        "from tensorflow.keras.losses import sparse_categorical_crossentropy\n",
        "from tensorflow.keras.optimizers import Adam\n",
        "from tensorflow.keras.models import Sequential\n",
        "from tensorflow.keras.layers import Dense, Flatten, Conv2D\n",
        "from tensorflow.keras.preprocessing.image import ImageDataGenerator\n",
        "\n",
        "# Data configuration\n",
        "training_set_folder = '/content/fruits/fruits-360_dataset/fruits-360/Training_smaller'\n",
        "test_set_folder     = '/content/fruits/fruits-360_dataset/fruits-360/Test_smaller'\n",
        "\n",
        "# Model configuration\n",
        "batch_size = 25\n",
        "img_width, img_height, img_num_channels = 25, 25, 3\n",
        "loss_function = sparse_categorical_crossentropy\n",
        "no_classes = 10\n",
        "no_epochs = 25\n",
        "optimizer = Adam()\n",
        "verbosity = 1\n",
        "\n",
        "print(os.getcwd())\n",
        "\n",
        "# Determine shape of the data\n",
        "input_shape = (img_width, img_height, img_num_channels)\n",
        "\n",
        "# Create a generator\n",
        "train_datagen = ImageDataGenerator(\n",
        "  rescale=1./255\n",
        ")\n",
        "\n",
        "path = \"/content/fruits/fruits-360_dataset/fruits-360/adapted-images\"\n",
        "\n",
        "if not os.path.exists(path):\n",
        "  os.mkdir(path)\n",
        "train_datagen = train_datagen.flow_from_directory(\n",
        "        training_set_folder,\n",
        "        save_to_dir=path,\n",
        "        save_format='jpeg',\n",
        "        batch_size=batch_size,\n",
        "        target_size=(25, 25),\n",
        "        class_mode='sparse')\n",
        "\n",
        "# Create the model\n",
        "model = Sequential()\n",
        "model.add(Conv2D(16, kernel_size=(5, 5), activation='relu', input_shape=input_shape))\n",
        "model.add(Conv2D(32, kernel_size=(5, 5), activation='relu'))\n",
        "model.add(Conv2D(64, kernel_size=(5, 5), activation='relu'))\n",
        "model.add(Conv2D(128, kernel_size=(5, 5), activation='relu'))\n",
        "model.add(Flatten())\n",
        "model.add(Dense(16, activation='relu'))\n",
        "model.add(Dense(no_classes, activation='softmax'))\n",
        "\n",
        "# Display a model summary\n",
        "model.summary()\n",
        "\n",
        "# Compile the model\n",
        "model.compile(loss=loss_function,\n",
        "              optimizer=optimizer,\n",
        "              metrics=['accuracy'])\n",
        "\n",
        "# Start training\n",
        "model.fit(\n",
        "        train_datagen,\n",
        "        epochs=no_epochs,\n",
        "        shuffle=False)"
      ],
      "metadata": {
        "colab": {
          "base_uri": "https://localhost:8080/"
        },
        "id": "eQuUL7xV6DNB",
        "outputId": "372fd9d3-d1ca-408d-a498-1db45caf3845"
      },
      "execution_count": 115,
      "outputs": [
        {
          "output_type": "stream",
          "name": "stdout",
          "text": [
            "/content/fruits/fruits-360_dataset/fruits-360\n",
            "Found 4370 images belonging to 10 classes.\n",
            "Model: \"sequential_1\"\n",
            "_________________________________________________________________\n",
            " Layer (type)                Output Shape              Param #   \n",
            "=================================================================\n",
            " conv2d_4 (Conv2D)           (None, 21, 21, 16)        1216      \n",
            "                                                                 \n",
            " conv2d_5 (Conv2D)           (None, 17, 17, 32)        12832     \n",
            "                                                                 \n",
            " conv2d_6 (Conv2D)           (None, 13, 13, 64)        51264     \n",
            "                                                                 \n",
            " conv2d_7 (Conv2D)           (None, 9, 9, 128)         204928    \n",
            "                                                                 \n",
            " flatten_1 (Flatten)         (None, 10368)             0         \n",
            "                                                                 \n",
            " dense_2 (Dense)             (None, 16)                165904    \n",
            "                                                                 \n",
            " dense_3 (Dense)             (None, 10)                170       \n",
            "                                                                 \n",
            "=================================================================\n",
            "Total params: 436,314\n",
            "Trainable params: 436,314\n",
            "Non-trainable params: 0\n",
            "_________________________________________________________________\n",
            "Epoch 1/25\n",
            "175/175 [==============================] - 25s 139ms/step - loss: 0.7342 - accuracy: 0.7380\n",
            "Epoch 2/25\n",
            "175/175 [==============================] - 24s 135ms/step - loss: 0.1295 - accuracy: 0.9664\n",
            "Epoch 3/25\n",
            "175/175 [==============================] - 24s 137ms/step - loss: 0.1029 - accuracy: 0.9744\n",
            "Epoch 4/25\n",
            "175/175 [==============================] - 25s 145ms/step - loss: 0.0018 - accuracy: 0.9998\n",
            "Epoch 5/25\n",
            "175/175 [==============================] - 24s 138ms/step - loss: 2.0143e-04 - accuracy: 1.0000\n",
            "Epoch 6/25\n",
            "175/175 [==============================] - 24s 139ms/step - loss: 8.4717e-05 - accuracy: 1.0000\n",
            "Epoch 7/25\n",
            "175/175 [==============================] - 24s 139ms/step - loss: 4.8417e-05 - accuracy: 1.0000\n",
            "Epoch 8/25\n",
            "175/175 [==============================] - 24s 139ms/step - loss: 3.2022e-05 - accuracy: 1.0000\n",
            "Epoch 9/25\n",
            "175/175 [==============================] - 24s 139ms/step - loss: 2.4734e-05 - accuracy: 1.0000\n",
            "Epoch 10/25\n",
            "175/175 [==============================] - 24s 139ms/step - loss: 1.8849e-05 - accuracy: 1.0000\n",
            "Epoch 11/25\n",
            "175/175 [==============================] - 24s 139ms/step - loss: 1.4098e-05 - accuracy: 1.0000\n",
            "Epoch 12/25\n",
            "175/175 [==============================] - 24s 139ms/step - loss: 1.1800e-05 - accuracy: 1.0000\n",
            "Epoch 13/25\n",
            "175/175 [==============================] - 25s 140ms/step - loss: 9.7708e-06 - accuracy: 1.0000\n",
            "Epoch 14/25\n",
            "175/175 [==============================] - 25s 141ms/step - loss: 7.8165e-06 - accuracy: 1.0000\n",
            "Epoch 15/25\n",
            "175/175 [==============================] - 24s 140ms/step - loss: 6.5954e-06 - accuracy: 1.0000\n",
            "Epoch 16/25\n",
            "175/175 [==============================] - 24s 139ms/step - loss: 5.4788e-06 - accuracy: 1.0000\n",
            "Epoch 17/25\n",
            "175/175 [==============================] - 24s 138ms/step - loss: 4.6944e-06 - accuracy: 1.0000\n",
            "Epoch 18/25\n",
            "175/175 [==============================] - 24s 139ms/step - loss: 3.9447e-06 - accuracy: 1.0000\n",
            "Epoch 19/25\n",
            "175/175 [==============================] - 24s 139ms/step - loss: 3.4626e-06 - accuracy: 1.0000\n",
            "Epoch 20/25\n",
            "175/175 [==============================] - 24s 138ms/step - loss: 2.9865e-06 - accuracy: 1.0000\n",
            "Epoch 21/25\n",
            "175/175 [==============================] - 24s 138ms/step - loss: 2.5538e-06 - accuracy: 1.0000\n",
            "Epoch 22/25\n",
            "175/175 [==============================] - 24s 138ms/step - loss: 2.3355e-06 - accuracy: 1.0000\n",
            "Epoch 23/25\n",
            "175/175 [==============================] - 24s 138ms/step - loss: 1.8968e-06 - accuracy: 1.0000\n",
            "Epoch 24/25\n",
            "175/175 [==============================] - 24s 139ms/step - loss: 1.6710e-06 - accuracy: 1.0000\n",
            "Epoch 25/25\n",
            "175/175 [==============================] - 24s 138ms/step - loss: 1.4301e-06 - accuracy: 1.0000\n"
          ]
        },
        {
          "output_type": "execute_result",
          "data": {
            "text/plain": [
              "<keras.callbacks.History at 0x7f72795010d0>"
            ]
          },
          "metadata": {},
          "execution_count": 115
        }
      ]
    },
    {
      "cell_type": "code",
      "source": [
        "import glob\n",
        "path = \"/content/fruits/fruits-360_dataset/fruits-360/adapted-images\"\n",
        "\n",
        "glob.glob(\"/content/fruits/fruits-360_dataset/fruits-360/*\")"
      ],
      "metadata": {
        "colab": {
          "base_uri": "https://localhost:8080/"
        },
        "id": "xipSdaod6Z9z",
        "outputId": "0c2d2479-e63d-424f-ac6c-b806bad25516"
      },
      "execution_count": 114,
      "outputs": [
        {
          "output_type": "stream",
          "name": "stdout",
          "text": [
            "False\n"
          ]
        },
        {
          "output_type": "execute_result",
          "data": {
            "text/plain": [
              "['/content/fruits/fruits-360_dataset/fruits-360/Test_smaller',\n",
              " '/content/fruits/fruits-360_dataset/fruits-360/test-multiple_fruits',\n",
              " '/content/fruits/fruits-360_dataset/fruits-360/LICENSE',\n",
              " '/content/fruits/fruits-360_dataset/fruits-360/Training',\n",
              " '/content/fruits/fruits-360_dataset/fruits-360/readme.md',\n",
              " '/content/fruits/fruits-360_dataset/fruits-360/Training_smaller',\n",
              " '/content/fruits/fruits-360_dataset/fruits-360/papers',\n",
              " '/content/fruits/fruits-360_dataset/fruits-360/Test']"
            ]
          },
          "metadata": {},
          "execution_count": 114
        }
      ]
    }
  ]
}