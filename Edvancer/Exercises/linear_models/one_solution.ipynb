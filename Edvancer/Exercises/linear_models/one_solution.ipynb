{
 "cells": [
  {
   "cell_type": "code",
   "execution_count": 2,
   "metadata": {},
   "outputs": [],
   "source": [
    "import warnings\n",
    "\n",
    "warnings.filterwarnings('ignore')\n",
    "\n",
    "import pandas as pd \n",
    "import numpy as np\n",
    "\n",
    "from sklearn.pipeline import Pipeline,FeatureUnion\n",
    "from sklearn.base import BaseEstimator, TransformerMixin\n",
    "\n",
    "from LinearModel_exercise_pipes import *"
   ]
  },
  {
   "cell_type": "code",
   "execution_count": 3,
   "metadata": {},
   "outputs": [],
   "source": [
    "file = r'D:\\AI_ML\\AI\\Machine Learning in Python\\data\\data\\facebook_comments.csv'"
   ]
  },
  {
   "cell_type": "code",
   "execution_count": 4,
   "metadata": {},
   "outputs": [],
   "source": [
    "fb=pd.read_csv(file)"
   ]
  },
  {
   "cell_type": "code",
   "execution_count": 5,
   "metadata": {},
   "outputs": [],
   "source": [
    "cyclic_feat=['Post Published Weekday','Base Date Time Weekday']\n",
    "cat_feat=['page_category']\n",
    "target=['Comments_in_next_H_hrs']\n",
    "num_feat=[_ for _ in fb.columns if _ not in cyclic_feat+cat_feat+target]"
   ]
  },
  {
   "cell_type": "code",
   "execution_count": 6,
   "metadata": {},
   "outputs": [],
   "source": [
    "p1=pdPipeline([\n",
    "    ('select_cyclic',VarSelector(cyclic_feat)),\n",
    "    ('cyclic_feat',custom_cyclic())\n",
    "])\n",
    "p2=pdPipeline([\n",
    "    ('select_cat',VarSelector(cat_feat)),\n",
    "    ('missing_treat',DataFrameImputer()),\n",
    "    ('create_dummies',get_dummies_Pipe(200))\n",
    "])\n",
    "p3=pdPipeline([\n",
    "    ('select_num',VarSelector(num_feat)),\n",
    "    ('missing_treat',DataFrameImputer())\n",
    "])\n",
    "\n",
    "data_pipe=FeatureUnion([\n",
    "    ('p1',p1),\n",
    "    ('p2',p2),\n",
    "    ('p3',p3)\n",
    "])"
   ]
  },
  {
   "cell_type": "code",
   "execution_count": 7,
   "metadata": {},
   "outputs": [
    {
     "data": {
      "text/plain": [
       "FeatureUnion(transformer_list=[('p1',\n",
       "                                pdPipeline(steps=[('select_cyclic',\n",
       "                                                   VarSelector(feature_names=['Post '\n",
       "                                                                              'Published '\n",
       "                                                                              'Weekday',\n",
       "                                                                              'Base '\n",
       "                                                                              'Date '\n",
       "                                                                              'Time '\n",
       "                                                                              'Weekday'])),\n",
       "                                                  ('cyclic_feat',\n",
       "                                                   custom_cyclic())])),\n",
       "                               ('p2',\n",
       "                                pdPipeline(steps=[('select_cat',\n",
       "                                                   VarSelector(feature_names=['page_category'])),\n",
       "                                                  ('missing_treat',\n",
       "                                                   DataFrameImputer()),\n",
       "                                                  ('create_dummies',\n",
       "                                                   get_dummies_Pipe(fr...\n",
       "                                pdPipeline(steps=[('select_num',\n",
       "                                                   VarSelector(feature_names=['likes',\n",
       "                                                                              'checkins',\n",
       "                                                                              'talking_about',\n",
       "                                                                              'feat5',\n",
       "                                                                              'feat6',\n",
       "                                                                              'feat7',\n",
       "                                                                              'feat8',\n",
       "                                                                              'feat9',\n",
       "                                                                              'feat10',\n",
       "                                                                              'feat11',\n",
       "                                                                              'feat12',\n",
       "                                                                              'feat13',\n",
       "                                                                              'feat14',\n",
       "                                                                              'feat15',\n",
       "                                                                              'feat16',\n",
       "                                                                              'feat17',\n",
       "                                                                              'feat18',\n",
       "                                                                              'feat19',\n",
       "                                                                              'feat20',\n",
       "                                                                              'feat21',\n",
       "                                                                              'feat22',\n",
       "                                                                              'feat23',\n",
       "                                                                              'feat24',\n",
       "                                                                              'feat25',\n",
       "                                                                              'feat26',\n",
       "                                                                              'feat27',\n",
       "                                                                              'feat28',\n",
       "                                                                              'feat29',\n",
       "                                                                              'CC1',\n",
       "                                                                              'CC2', ...])),\n",
       "                                                  ('missing_treat',\n",
       "                                                   DataFrameImputer())]))])"
      ]
     },
     "execution_count": 7,
     "metadata": {},
     "output_type": "execute_result"
    }
   ],
   "source": [
    "data_pipe.fit(fb)"
   ]
  },
  {
   "cell_type": "code",
   "execution_count": 8,
   "metadata": {},
   "outputs": [],
   "source": [
    "x_train=pd.DataFrame(data=data_pipe.transform(fb),\n",
    "                    columns=data_pipe.get_feature_names())\n",
    "y_train=fb[target]"
   ]
  },
  {
   "cell_type": "code",
   "execution_count": 9,
   "metadata": {},
   "outputs": [],
   "source": [
    "from sklearn.model_selection import cross_val_score\n",
    "from sklearn.linear_model import LinearRegression"
   ]
  },
  {
   "cell_type": "code",
   "execution_count": 10,
   "metadata": {},
   "outputs": [],
   "source": [
    "lr=LinearRegression()"
   ]
  },
  {
   "cell_type": "code",
   "execution_count": 13,
   "metadata": {},
   "outputs": [],
   "source": [
    "cvmae=-np.array(cross_val_score(lr,x_train,y_train,cv=10,\n",
    "                      scoring='r2',\n",
    "                     n_jobs=-1))"
   ]
  },
  {
   "cell_type": "code",
   "execution_count": 14,
   "metadata": {},
   "outputs": [
    {
     "data": {
      "text/plain": [
       "-0.29759765287536666"
      ]
     },
     "execution_count": 14,
     "metadata": {},
     "output_type": "execute_result"
    }
   ],
   "source": [
    "cvmae.mean()"
   ]
  },
  {
   "cell_type": "code",
   "execution_count": 15,
   "metadata": {},
   "outputs": [
    {
     "data": {
      "text/plain": [
       "0.09660287990951694"
      ]
     },
     "execution_count": 15,
     "metadata": {},
     "output_type": "execute_result"
    }
   ],
   "source": [
    "cvmae.std()"
   ]
  },
  {
   "cell_type": "code",
   "execution_count": 16,
   "metadata": {},
   "outputs": [],
   "source": [
    "from sklearn.linear_model import Lasso,Ridge\n",
    "from sklearn.model_selection import GridSearchCV"
   ]
  },
  {
   "cell_type": "code",
   "execution_count": 17,
   "metadata": {},
   "outputs": [],
   "source": [
    "def report(results, n_top=3):\n",
    "    for i in range(1, n_top + 1):\n",
    "        candidates = np.flatnonzero(results['rank_test_score'] == i)\n",
    "        for candidate in candidates:\n",
    "            print(\"Model with rank: {0}\".format(i))\n",
    "            print(\"Mean validation score: {0:.6f} (std: {1:.6f})\".format(\n",
    "                  results['mean_test_score'][candidate],\n",
    "                  results['std_test_score'][candidate]))\n",
    "            print(\"Parameters: {0}\".format(results['params'][candidate]))\n",
    "            print(\"\")"
   ]
  },
  {
   "cell_type": "code",
   "execution_count": 18,
   "metadata": {},
   "outputs": [
    {
     "name": "stdout",
     "output_type": "stream",
     "text": [
      "Fitting 10 folds for each of 100 candidates, totalling 1000 fits\n"
     ]
    },
    {
     "data": {
      "text/plain": [
       "GridSearchCV(cv=10, estimator=Lasso(), n_jobs=-1,\n",
       "             param_grid={'alpha': array([  1.,   2.,   3.,   4.,   5.,   6.,   7.,   8.,   9.,  10.,  11.,\n",
       "        12.,  13.,  14.,  15.,  16.,  17.,  18.,  19.,  20.,  21.,  22.,\n",
       "        23.,  24.,  25.,  26.,  27.,  28.,  29.,  30.,  31.,  32.,  33.,\n",
       "        34.,  35.,  36.,  37.,  38.,  39.,  40.,  41.,  42.,  43.,  44.,\n",
       "        45.,  46.,  47.,  48.,  49.,  50.,  51.,  52.,  53.,  54.,  55.,\n",
       "        56.,  57.,  58.,  59.,  60.,  61.,  62.,  63.,  64.,  65.,  66.,\n",
       "        67.,  68.,  69.,  70.,  71.,  72.,  73.,  74.,  75.,  76.,  77.,\n",
       "        78.,  79.,  80.,  81.,  82.,  83.,  84.,  85.,  86.,  87.,  88.,\n",
       "        89.,  90.,  91.,  92.,  93.,  94.,  95.,  96.,  97.,  98.,  99.,\n",
       "       100.])},\n",
       "             scoring='r2', verbose=20)"
      ]
     },
     "execution_count": 18,
     "metadata": {},
     "output_type": "execute_result"
    }
   ],
   "source": [
    "### lasso\n",
    "# this will take longer time to finish in comparison to ridge because of not having a closed form solution\n",
    "\n",
    "model=Lasso(fit_intercept=True)\n",
    "params ={'alpha': np.linspace(1,100,100)}\n",
    "gs=GridSearchCV(model,\n",
    "                         param_grid=params,\n",
    "                         cv=10,\n",
    "                         scoring='r2',\n",
    "                        verbose=20,n_jobs=-1)\n",
    "gs.fit(x_train,y_train)"
   ]
  },
  {
   "cell_type": "code",
   "execution_count": 19,
   "metadata": {},
   "outputs": [
    {
     "name": "stdout",
     "output_type": "stream",
     "text": [
      "Model with rank: 1\n",
      "Mean validation score: 0.301228 (std: 0.096899)\n",
      "Parameters: {'alpha': 1.0}\n",
      "\n",
      "Model with rank: 2\n",
      "Mean validation score: 0.300527 (std: 0.096313)\n",
      "Parameters: {'alpha': 3.0}\n",
      "\n",
      "Model with rank: 3\n",
      "Mean validation score: 0.300492 (std: 0.096546)\n",
      "Parameters: {'alpha': 4.0}\n",
      "\n",
      "Model with rank: 4\n",
      "Mean validation score: 0.300292 (std: 0.096818)\n",
      "Parameters: {'alpha': 5.0}\n",
      "\n",
      "Model with rank: 5\n",
      "Mean validation score: 0.300270 (std: 0.096132)\n",
      "Parameters: {'alpha': 2.0}\n",
      "\n"
     ]
    }
   ],
   "source": [
    "report(gs.cv_results_,5)"
   ]
  },
  {
   "cell_type": "code",
   "execution_count": 21,
   "metadata": {},
   "outputs": [
    {
     "data": {
      "text/plain": [
       "Lasso()"
      ]
     },
     "execution_count": 21,
     "metadata": {},
     "output_type": "execute_result"
    }
   ],
   "source": [
    "lasso_model=gs.best_estimator_\n",
    "lasso_model"
   ]
  },
  {
   "cell_type": "code",
   "execution_count": 22,
   "metadata": {},
   "outputs": [
    {
     "data": {
      "text/plain": [
       "Lasso()"
      ]
     },
     "execution_count": 22,
     "metadata": {},
     "output_type": "execute_result"
    }
   ],
   "source": [
    "lasso_model.fit(x_train,y_train)"
   ]
  },
  {
   "cell_type": "code",
   "execution_count": 23,
   "metadata": {},
   "outputs": [
    {
     "data": {
      "text/plain": [
       "[('p1__Post Published Weekday_sin', -0.0),\n",
       " ('p1__Post Published Weekday_cos', -0.0),\n",
       " ('p1__Base Date Time Weekday_sin', 0.0),\n",
       " ('p1__Base Date Time Weekday_cos', -0.0),\n",
       " ('p2__page_category_Professional sports team', -0.0),\n",
       " ('p2__page_category_Musician/band', -0.0),\n",
       " ('p2__page_category_Artist', -0.0),\n",
       " ('p2__page_category_Political party', -0.0),\n",
       " ('p2__page_category_Community', -0.0),\n",
       " ('p2__page_category_Movie', 0.0),\n",
       " ('p2__page_category_Actor/director', -0.0),\n",
       " ('p2__page_category_University', 0.0),\n",
       " ('p2__page_category_Athlete', 0.0),\n",
       " ('p2__page_category_Public figure', -0.0),\n",
       " ('p2__page_category_Product/service', 0.0),\n",
       " ('p2__page_category_Non-profit organization', 0.0),\n",
       " ('p2__page_category_Church/religious organization', 0.0),\n",
       " ('p2__page_category_Record label', 0.0),\n",
       " ('p2__page_category_News/media website', -0.0),\n",
       " ('p2__page_category_Company', 0.0),\n",
       " ('p2__page_category_Entertainer', 0.0),\n",
       " ('p2__page_category_Personal blog', -0.0),\n",
       " ('p2__page_category_Education', 0.0),\n",
       " ('p2__page_category_Author', 0.0),\n",
       " ('p2__page_category_Entertainment website', -0.0),\n",
       " ('p2__page_category_Tv channel', 0.0),\n",
       " ('p2__page_category_Just for fun', -0.0),\n",
       " ('p2__page_category_Education website', 0.0),\n",
       " ('p2__page_category_Book', 0.0),\n",
       " ('p2__page_category_Media/news/publishing', -0.0),\n",
       " ('p2__page_category_School sports team', -0.0),\n",
       " ('p2__page_category_Restaurant/cafe', -0.0),\n",
       " ('p2__page_category_Clothing', -0.0),\n",
       " ('p2__page_category_Website', -0.0),\n",
       " ('p2__page_category_Outdoor gear/sporting goods', 0.0),\n",
       " ('p2__page_category_Small business', -0.0),\n",
       " ('p2__page_category_Other', -0.0),\n",
       " ('p2__page_category_Publisher', 0.0),\n",
       " ('p2__page_category_Food/beverages', 0.0),\n",
       " ('p3__likes', 3.51109867950512e-08),\n",
       " ('p3__checkins', -2.2444131875516496e-05),\n",
       " ('p3__talking_about', -1.7590579814123003e-05),\n",
       " ('p3__feat5', -0.0),\n",
       " ('p3__feat6', 0.018214963166914486),\n",
       " ('p3__feat7', 0.16668298267107476),\n",
       " ('p3__feat8', 0.01923521068053624),\n",
       " ('p3__feat9', 0.03355705176358678),\n",
       " ('p3__feat10', -0.10564318201257053),\n",
       " ('p3__feat11', -0.0040264159202305855),\n",
       " ('p3__feat12', 0.06932194303785992),\n",
       " ('p3__feat13', 0.1427397722817925),\n",
       " ('p3__feat14', 0.0),\n",
       " ('p3__feat15', 0.0),\n",
       " ('p3__feat16', 0.002711382929265399),\n",
       " ('p3__feat17', 0.0),\n",
       " ('p3__feat18', 0.15801471865377253),\n",
       " ('p3__feat19', -0.02066409330434011),\n",
       " ('p3__feat20', -0.03212627872899081),\n",
       " ('p3__feat21', -0.020522736345800607),\n",
       " ('p3__feat22', -0.16827250863796045),\n",
       " ('p3__feat23', -0.0329113487307483),\n",
       " ('p3__feat24', 0.0),\n",
       " ('p3__feat25', -0.00035768910572194884),\n",
       " ('p3__feat26', 0.004210432114220944),\n",
       " ('p3__feat27', 0.0),\n",
       " ('p3__feat28', -0.007309264666547181),\n",
       " ('p3__feat29', -0.011187784107957713),\n",
       " ('p3__CC1', 0.051951221003787684),\n",
       " ('p3__CC2', 0.19952978983288808),\n",
       " ('p3__CC3', -0.0),\n",
       " ('p3__CC4', -0.07723549027935638),\n",
       " ('p3__CC5', 0.022124466494851364),\n",
       " ('p3__Base_Time', -0.1909844576167636),\n",
       " ('p3__Post_Length', 6.500379240365322e-05),\n",
       " ('p3__Post Share Count', 0.0027965284049630426),\n",
       " ('p3__Post Promotion Status', 0.0),\n",
       " ('p3__H local', 0.11928745537456804)]"
      ]
     },
     "execution_count": 23,
     "metadata": {},
     "output_type": "execute_result"
    }
   ],
   "source": [
    "list(zip(data_pipe.get_feature_names(),lasso_model.coef_))"
   ]
  },
  {
   "cell_type": "code",
   "execution_count": 24,
   "metadata": {},
   "outputs": [
    {
     "data": {
      "text/plain": [
       "47"
      ]
     },
     "execution_count": 24,
     "metadata": {},
     "output_type": "execute_result"
    }
   ],
   "source": [
    "(lasso_model.coef_==0).sum()"
   ]
  },
  {
   "cell_type": "code",
   "execution_count": 25,
   "metadata": {},
   "outputs": [],
   "source": [
    "from sklearn.metrics import r2_score"
   ]
  },
  {
   "cell_type": "code",
   "execution_count": 26,
   "metadata": {},
   "outputs": [],
   "source": [
    "y_train_pred = lasso_model.predict(x_train)\n",
    "# y_test_pred = lasso_model.predict(x_test)"
   ]
  },
  {
   "cell_type": "code",
   "execution_count": 27,
   "metadata": {},
   "outputs": [],
   "source": [
    "train_score1 = r2_score(y_train, y_train_pred)\n",
    "# test_score1 = r2_score(y_test, y_test_pred)"
   ]
  },
  {
   "cell_type": "code",
   "execution_count": 28,
   "metadata": {},
   "outputs": [
    {
     "name": "stdout",
     "output_type": "stream",
     "text": [
      "training data prediction score for r2 is = 0.32282827538124603\n"
     ]
    }
   ],
   "source": [
    "print (f'training data prediction score for r2 is = {train_score1}') # = 0.3202592463942481"
   ]
  },
  {
   "cell_type": "code",
   "execution_count": null,
   "metadata": {},
   "outputs": [],
   "source": [
    "### ridge\n",
    "\n",
    "model=Ridge(fit_intercept=True)\n",
    "params ={'alpha': np.linspace(1e7,1e9,100)}\n",
    "gs=GridSearchCV(model,\n",
    "                         param_grid=params,\n",
    "                         cv=10,\n",
    "                         scoring='neg_mean_absolute_error',\n",
    "                        verbose=20,n_jobs=-1)\n",
    "gs.fit(x_train,y_train)"
   ]
  },
  {
   "cell_type": "code",
   "execution_count": null,
   "metadata": {},
   "outputs": [],
   "source": [
    "report(gs.cv_results_,5)"
   ]
  }
 ],
 "metadata": {
  "kernelspec": {
   "display_name": "Python 3.9.12 ('base')",
   "language": "python",
   "name": "python3"
  },
  "language_info": {
   "codemirror_mode": {
    "name": "ipython",
    "version": 3
   },
   "file_extension": ".py",
   "mimetype": "text/x-python",
   "name": "python",
   "nbconvert_exporter": "python",
   "pygments_lexer": "ipython3",
   "version": "3.9.12"
  },
  "orig_nbformat": 4,
  "vscode": {
   "interpreter": {
    "hash": "2043299c89c8cd0b4d1a6f5cf4529bd58e6a4e0fe3181a25e0d328c821cdc5c5"
   }
  }
 },
 "nbformat": 4,
 "nbformat_minor": 2
}
